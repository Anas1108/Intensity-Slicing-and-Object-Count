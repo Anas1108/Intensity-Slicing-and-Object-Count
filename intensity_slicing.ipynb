{
 "cells": [
  {
   "cell_type": "code",
   "execution_count": 1,
   "id": "0967a6fa",
   "metadata": {},
   "outputs": [],
   "source": [
    "import cv2\n",
    "import numpy as np\n",
    "import matplotlib.pyplot as plt\n",
    "import sys\n",
    "from PIL import ImageDraw"
   ]
  },
  {
   "cell_type": "markdown",
   "id": "34a6acf0",
   "metadata": {},
   "source": [
    "# Description_Question-1"
   ]
  },
  {
   "cell_type": "markdown",
   "id": "9884caaf",
   "metadata": {},
   "source": [
    "First we have to import an image and convert it into gray scale using open cv tools and display it.Part 1 is done.\n",
    "Then to count pixels of each object in an image we have to iterate loop in all the pixels of an image ,and find the number of unique pixels other than 0 value(dark pixels) and place them in a dictionary along with their count in an image.Then using put text function write each object count on it place.Part two is done.\n",
    "Te other way to get number of pixels of each object using open cv , first import the image ,convert in gray scale and then find its threshold where all the objects clearly be observed.then find number of contours and draw them,and at last find the area of each countours , which is the number of pixels of each object.Then find the midpoint of each contours and draw the area of contours at that place.Part 3 is done  \n"
   ]
  },
  {
   "cell_type": "markdown",
   "id": "d174f5e9",
   "metadata": {},
   "source": [
    "# Question1_Part 1"
   ]
  },
  {
   "cell_type": "code",
   "execution_count": 2,
   "id": "ebaa32ee",
   "metadata": {},
   "outputs": [
    {
     "data": {
      "image/png": "[encoded data removed]",
      "text/plain": [
       "<Figure size 432x288 with 1 Axes>"
      ]
     },
     "metadata": {
      "needs_background": "light"
     },
     "output_type": "display_data"
    }
   ],
   "source": [
    "path = \"img.jpg\"\n",
    "img = cv2.imread(path, cv2.IMREAD_GRAYSCALE)\n",
    "plt.imshow(img,cmap='gray')\n",
    "plt.axis('off')\n",
    "plt.show()"
   ]
  },
  {
   "cell_type": "markdown",
   "id": "e230bdf1",
   "metadata": {},
   "source": [
    "# Question1_part2"
   ]
  },
  {
   "cell_type": "code",
   "execution_count": 3,
   "id": "19719083",
   "metadata": {},
   "outputs": [
    {
     "name": "stdout",
     "output_type": "stream",
     "text": [
      "{0: 71622, 1: 590, 2: 107, 3: 48, 4: 32, 5: 11, 6: 3, 7: 2, 8: 2, 83: 1, 85: 1, 87: 1, 88: 5, 89: 5, 90: 76, 91: 5368, 92: 209, 93: 3, 94: 8, 95: 2, 96: 1, 118: 1, 119: 1, 120: 2, 121: 45, 122: 1813, 123: 1899, 124: 10, 125: 3, 126: 2, 136: 1, 137: 1, 138: 3, 139: 8, 140: 9, 141: 1518, 142: 8, 143: 5, 144: 1, 145: 2, 146: 1, 147: 1, 192: 2, 193: 1, 194: 1, 195: 102, 196: 2619, 197: 60, 198: 9, 199: 6, 200: 4, 201: 1686, 202: 43, 203: 5, 204: 4, 205: 2, 207: 1, 221: 1, 222: 2, 223: 9, 224: 97, 225: 1891, 226: 11, 227: 10, 228: 2, 229: 1}\n"
     ]
    }
   ],
   "source": [
    "'''\n",
    "iterate a loop in image to see the row vice  unique pixel values of different items ,\n",
    "to determine the sequence of objects means ,for example object having pixels value 90 come first if we search in row wise.\n",
    "find each  pixel value and its count.Creates the dictioanry,  for example in this case  pixel value of 0 comes 71622 times\n",
    "'''\n",
    "a = np.array(img)\n",
    "unique, counts = np.unique(a, return_counts=True)\n",
    "z=dict(zip(unique, counts))\n",
    "print((z))"
   ]
  },
  {
   "cell_type": "code",
   "execution_count": 4,
   "id": "8cbe58bc",
   "metadata": {},
   "outputs": [
    {
     "name": "stdout",
     "output_type": "stream",
     "text": [
      "[91, 122, 123, 141, 196, 201, 225]\n",
      "[5368, 1813, 1899, 1518, 2619, 1686, 1891]\n"
     ]
    }
   ],
   "source": [
    "'''\n",
    "find those pixel values those count are larger means the pixel of objects. and save there count in a list \n",
    "'''\n",
    "color=[]\n",
    "pixels=[]\n",
    "for i,j in z.items():\n",
    "    if j>1000 and i!=0:\n",
    "        color.append(i)\n",
    "        pixels.append(j)\n",
    "print(color)\n",
    "print(pixels)"
   ]
  },
  {
   "cell_type": "code",
   "execution_count": 5,
   "id": "acccf70e",
   "metadata": {},
   "outputs": [],
   "source": [
    "'''\n",
    "arrange them in a sequence or\n",
    "in a order in which  they appear in a image\n",
    "'''\n",
    "new_color=[91,196,225,201,141,123,121]\n",
    "new_pixels=[5368,2619,1686,1891,1813,1899,1518]\n",
    "org = [(200,50),(50,60),(110,150),(210,140),(45,230),(155,250),(240,220)]"
   ]
  },
  {
   "cell_type": "code",
   "execution_count": 6,
   "id": "a5d3ca65",
   "metadata": {},
   "outputs": [],
   "source": [
    "'''\n",
    "function to draw a text on the image\n",
    "'''\n",
    "def write_on_img(myImg,pxl,org,font,fontScale, color, thickness):\n",
    "    myImg = cv2.putText(myImg,pxl,org, font,fontScale, color, thickness, cv2.LINE_AA)\n",
    "    return myImg"
   ]
  },
  {
   "cell_type": "code",
   "execution_count": 7,
   "id": "fbfacdd6",
   "metadata": {},
   "outputs": [],
   "source": [
    "'''\n",
    "reading the image in gray scale and calling a function to write number of pixels on a particular object\n",
    "'''\n",
    "path = \"img.jpg\"\n",
    "myImg = cv2.imread(path, cv2.IMREAD_GRAYSCALE)\n",
    "for i in range(7):\n",
    "    myImg=write_on_img(myImg,str(new_pixels[i]),org[i],cv2.FONT_HERSHEY_SIMPLEX,0.5,(50,10,0),1)"
   ]
  },
  {
   "cell_type": "code",
   "execution_count": 8,
   "id": "b9cb38f8",
   "metadata": {},
   "outputs": [
    {
     "data": {
      "image/png": "[encoded data removed]",
      "text/plain": [
       "<Figure size 432x288 with 1 Axes>"
      ]
     },
     "metadata": {
      "needs_background": "light"
     },
     "output_type": "display_data"
    }
   ],
   "source": [
    "'''\n",
    "display the final output image\n",
    "'''\n",
    "plt.imshow(myImg,cmap='gray')\n",
    "plt.axis('off')\n",
    "plt.show()"
   ]
  },
  {
   "cell_type": "markdown",
   "id": "cbb39e4a",
   "metadata": {},
   "source": [
    "# Question_1_part3"
   ]
  },
  {
   "cell_type": "code",
   "execution_count": 9,
   "id": "bfe3208b",
   "metadata": {},
   "outputs": [
    {
     "data": {
      "image/png": "[encoded data removed]",
      "text/plain": [
       "<Figure size 432x288 with 1 Axes>"
      ]
     },
     "metadata": {
      "needs_background": "light"
     },
     "output_type": "display_data"
    }
   ],
   "source": [
    "'''\n",
    "reading the image and convert to gray scale, after than apply binary thresh hold to find only the shapes,\n",
    "and fin the contours among each object in an image and\n",
    "than find the area of each contour ,hence find the area or number of pixels in each object.\n",
    "\n",
    "'''\n",
    "image = cv2.imread(\"img.jpg\")\n",
    "# convert to RGB\n",
    "image = cv2.cvtColor(image, cv2.COLOR_BGR2RGB)\n",
    "# convert to grayscale\n",
    "gray = cv2.cvtColor(image, cv2.COLOR_RGB2GRAY)\n",
    "# create a binary thresholded image\n",
    "_, binary = cv2.threshold(gray,20, 255, cv2.THRESH_BINARY_INV)\n",
    "# find the contours from the thresholded image\n",
    "contours, hierarchy = cv2.findContours(binary, cv2.RETR_TREE, cv2.CHAIN_APPROX_SIMPLE)\n",
    "for c in range(len(contours)):\n",
    "    ''' skip the first index as it holds the complete image and we need to find the size of objects only in an image'''\n",
    "    if c==0:\n",
    "        continue\n",
    "    # compute the center of the contour\n",
    "    M = cv2.moments((contours[c]))\n",
    "    cX = int(M[\"m10\"] / M[\"m00\"])\n",
    "    cY = int(M[\"m01\"] / M[\"m00\"])\n",
    "    cv2.putText(image, str(cv2.contourArea((contours[c]))), (cX - 20, cY + 10),\n",
    "    cv2.FONT_HERSHEY_SIMPLEX, 0.5, (255, 255, 255), 2)\n",
    "# show the image\n",
    "plt.imshow(image,cmap='gray')\n",
    "plt.axis('off')\n",
    "plt.show()"
   ]
  }
 ],
 "metadata": {
  "kernelspec": {
   "display_name": "Python 3",
   "language": "python",
   "name": "python3"
  },
  "language_info": {
   "codemirror_mode": {
    "name": "ipython",
    "version": 3
   },
   "file_extension": ".py",
   "mimetype": "text/x-python",
   "name": "python",
   "nbconvert_exporter": "python",
   "pygments_lexer": "ipython3",
   "version": "3.8.8"
  }
 },
 "nbformat": 4,
 "nbformat_minor": 5
}
